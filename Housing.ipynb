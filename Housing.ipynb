{
  "nbformat": 4,
  "nbformat_minor": 5,
  "metadata": {
    "colab": {
      "name": "Housing.ipynb",
      "provenance": [],
      "collapsed_sections": [
        "b034bbe5",
        "a1e66abd",
        "2272ffb5"
      ],
      "include_colab_link": true
    },
    "kernelspec": {
      "display_name": "Python 3",
      "language": "python",
      "name": "python3"
    },
    "language_info": {
      "codemirror_mode": {
        "name": "ipython",
        "version": 3
      },
      "file_extension": ".py",
      "mimetype": "text/x-python",
      "name": "python",
      "nbconvert_exporter": "python",
      "pygments_lexer": "ipython3",
      "version": "3.8.8"
    }
  },
  "cells": [
    {
      "cell_type": "markdown",
      "metadata": {
        "id": "view-in-github",
        "colab_type": "text"
      },
      "source": [
        "<a href=\"https://colab.research.google.com/github/Adah-K/ML/blob/main/Housing.ipynb\" target=\"_parent\"><img src=\"https://colab.research.google.com/assets/colab-badge.svg\" alt=\"Open In Colab\"/></a>"
      ]
    },
    {
      "cell_type": "code",
      "metadata": {
        "id": "f32aa81f"
      },
      "source": [
        "import pandas as pd\n",
        "import numpy as np\n",
        "import matplotlib.pyplot as plt\n",
        "from matplotlib.colors import ListedColormap\n",
        "import seaborn as sns\n",
        "%matplotlib inline\n",
        "from google.colab import files\n",
        "import io\n",
        "from sklearn.model_selection import train_test_split\n",
        "from sklearn.linear_model import LassoCV, LogisticRegression\n",
        "from sklearn.feature_selection import SelectFromModel\n",
        "from sklearn.preprocessing import StandardScaler\n",
        "\n",
        "from sklearn.metrics import classification_report,confusion_matrix,  mean_squared_error\n",
        "from sklearn.model_selection import train_test_split\n"
      ],
      "id": "f32aa81f",
      "execution_count": null,
      "outputs": []
    },
    {
      "cell_type": "markdown",
      "metadata": {
        "id": "2661e908"
      },
      "source": [
        "## Get the Dataset"
      ],
      "id": "2661e908"
    },
    {
      "cell_type": "code",
      "metadata": {
        "colab": {
          "resources": {
            "http://localhost:8080/nbextensions/google.colab/files.js": {
              "data": "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",
              "headers": [
                [
                  "content-type",
                  "application/javascript"
                ]
              ],
              "ok": true,
              "status": 200,
              "status_text": ""
            }
          },
          "base_uri": "https://localhost:8080/",
          "height": 73
        },
        "id": "6WPbjfiISv0I",
        "outputId": "55591c89-d916-440c-da80-5a54e0e8eba4"
      },
      "source": [
        "dataset = files.upload()"
      ],
      "id": "6WPbjfiISv0I",
      "execution_count": null,
      "outputs": [
        {
          "output_type": "display_data",
          "data": {
            "text/html": [
              "\n",
              "     <input type=\"file\" id=\"files-fe4e13ed-31e8-47ed-abe3-9205122383f2\" name=\"files[]\" multiple disabled\n",
              "        style=\"border:none\" />\n",
              "     <output id=\"result-fe4e13ed-31e8-47ed-abe3-9205122383f2\">\n",
              "      Upload widget is only available when the cell has been executed in the\n",
              "      current browser session. Please rerun this cell to enable.\n",
              "      </output>\n",
              "      <script src=\"/nbextensions/google.colab/files.js\"></script> "
            ],
            "text/plain": [
              "<IPython.core.display.HTML object>"
            ]
          },
          "metadata": {
            "tags": []
          }
        },
        {
          "output_type": "stream",
          "text": [
            "Saving Housing Pricing.csv to Housing Pricing (1).csv\n"
          ],
          "name": "stdout"
        }
      ]
    },
    {
      "cell_type": "code",
      "metadata": {
        "id": "951a394d"
      },
      "source": [
        "data=pd.read_csv(io.BytesIO(dataset['Housing Pricing.csv']))"
      ],
      "id": "951a394d",
      "execution_count": null,
      "outputs": []
    },
    {
      "cell_type": "code",
      "metadata": {
        "colab": {
          "base_uri": "https://localhost:8080/",
          "height": 132
        },
        "id": "27f457ed",
        "outputId": "99170655-b77c-43fc-b613-6a71f6819d45"
      },
      "source": [
        "data.head(2)"
      ],
      "id": "27f457ed",
      "execution_count": null,
      "outputs": [
        {
          "output_type": "execute_result",
          "data": {
            "text/html": [
              "<div>\n",
              "<style scoped>\n",
              "    .dataframe tbody tr th:only-of-type {\n",
              "        vertical-align: middle;\n",
              "    }\n",
              "\n",
              "    .dataframe tbody tr th {\n",
              "        vertical-align: top;\n",
              "    }\n",
              "\n",
              "    .dataframe thead th {\n",
              "        text-align: right;\n",
              "    }\n",
              "</style>\n",
              "<table border=\"1\" class=\"dataframe\">\n",
              "  <thead>\n",
              "    <tr style=\"text-align: right;\">\n",
              "      <th></th>\n",
              "      <th>Id</th>\n",
              "      <th>MSSubClass</th>\n",
              "      <th>MSZoning</th>\n",
              "      <th>LotFrontage</th>\n",
              "      <th>LotArea</th>\n",
              "      <th>Street</th>\n",
              "      <th>LotShape</th>\n",
              "      <th>LandContour</th>\n",
              "      <th>Utilities</th>\n",
              "      <th>LotConfig</th>\n",
              "      <th>LandSlope</th>\n",
              "      <th>Neighborhood</th>\n",
              "      <th>Condition1</th>\n",
              "      <th>Condition2</th>\n",
              "      <th>BldgType</th>\n",
              "      <th>HouseStyle</th>\n",
              "      <th>OverallQual</th>\n",
              "      <th>OverallCond</th>\n",
              "      <th>YearBuilt</th>\n",
              "      <th>YearRemodAdd</th>\n",
              "      <th>RoofStyle</th>\n",
              "      <th>RoofMatl</th>\n",
              "      <th>Exterior1st</th>\n",
              "      <th>Exterior2nd</th>\n",
              "      <th>MasVnrType</th>\n",
              "      <th>MasVnrArea</th>\n",
              "      <th>ExterQual</th>\n",
              "      <th>ExterCond</th>\n",
              "      <th>Foundation</th>\n",
              "      <th>BsmtQual</th>\n",
              "      <th>BsmtCond</th>\n",
              "      <th>BsmtExposure</th>\n",
              "      <th>BsmtFinType1</th>\n",
              "      <th>BsmtFinSF1</th>\n",
              "      <th>BsmtFinType2</th>\n",
              "      <th>BsmtFinSF2</th>\n",
              "      <th>BsmtUnfSF</th>\n",
              "      <th>TotalBsmtSF</th>\n",
              "      <th>Heating</th>\n",
              "      <th>HeatingQC</th>\n",
              "      <th>CentralAir</th>\n",
              "      <th>Electrical</th>\n",
              "      <th>1stFlrSF</th>\n",
              "      <th>2ndFlrSF</th>\n",
              "      <th>LowQualFinSF</th>\n",
              "      <th>GrLivArea</th>\n",
              "      <th>BsmtFullBath</th>\n",
              "      <th>BsmtHalfBath</th>\n",
              "      <th>FullBath</th>\n",
              "      <th>HalfBath</th>\n",
              "      <th>BedroomAbvGr</th>\n",
              "      <th>KitchenAbvGr</th>\n",
              "      <th>KitchenQual</th>\n",
              "      <th>TotRmsAbvGrd</th>\n",
              "      <th>Functional</th>\n",
              "      <th>Fireplaces</th>\n",
              "      <th>FireplaceQu</th>\n",
              "      <th>GarageType</th>\n",
              "      <th>GarageYrBlt</th>\n",
              "      <th>GarageFinish</th>\n",
              "      <th>GarageCars</th>\n",
              "      <th>GarageArea</th>\n",
              "      <th>GarageQual</th>\n",
              "      <th>GarageCond</th>\n",
              "      <th>PavedDrive</th>\n",
              "      <th>WoodDeckSF</th>\n",
              "      <th>OpenPorchSF</th>\n",
              "      <th>EnclosedPorch</th>\n",
              "      <th>3SsnPorch</th>\n",
              "      <th>ScreenPorch</th>\n",
              "      <th>PoolArea</th>\n",
              "      <th>MiscVal</th>\n",
              "      <th>MoSold</th>\n",
              "      <th>YrSold</th>\n",
              "      <th>SaleType</th>\n",
              "      <th>SaleCondition</th>\n",
              "      <th>SalePrice</th>\n",
              "    </tr>\n",
              "  </thead>\n",
              "  <tbody>\n",
              "    <tr>\n",
              "      <th>0</th>\n",
              "      <td>1</td>\n",
              "      <td>60</td>\n",
              "      <td>RL</td>\n",
              "      <td>65.0</td>\n",
              "      <td>8450</td>\n",
              "      <td>Pave</td>\n",
              "      <td>Reg</td>\n",
              "      <td>Lvl</td>\n",
              "      <td>AllPub</td>\n",
              "      <td>Inside</td>\n",
              "      <td>Gtl</td>\n",
              "      <td>CollgCr</td>\n",
              "      <td>Norm</td>\n",
              "      <td>Norm</td>\n",
              "      <td>1Fam</td>\n",
              "      <td>2Story</td>\n",
              "      <td>7</td>\n",
              "      <td>5</td>\n",
              "      <td>2003</td>\n",
              "      <td>2003</td>\n",
              "      <td>Gable</td>\n",
              "      <td>CompShg</td>\n",
              "      <td>VinylSd</td>\n",
              "      <td>VinylSd</td>\n",
              "      <td>BrkFace</td>\n",
              "      <td>196.0</td>\n",
              "      <td>Gd</td>\n",
              "      <td>TA</td>\n",
              "      <td>PConc</td>\n",
              "      <td>Gd</td>\n",
              "      <td>TA</td>\n",
              "      <td>No</td>\n",
              "      <td>GLQ</td>\n",
              "      <td>706</td>\n",
              "      <td>Unf</td>\n",
              "      <td>0</td>\n",
              "      <td>150</td>\n",
              "      <td>856</td>\n",
              "      <td>GasA</td>\n",
              "      <td>Ex</td>\n",
              "      <td>Y</td>\n",
              "      <td>SBrkr</td>\n",
              "      <td>856</td>\n",
              "      <td>854</td>\n",
              "      <td>0</td>\n",
              "      <td>1710</td>\n",
              "      <td>1</td>\n",
              "      <td>0</td>\n",
              "      <td>2</td>\n",
              "      <td>1</td>\n",
              "      <td>3</td>\n",
              "      <td>1</td>\n",
              "      <td>Gd</td>\n",
              "      <td>8</td>\n",
              "      <td>Typ</td>\n",
              "      <td>0</td>\n",
              "      <td>NaN</td>\n",
              "      <td>Attchd</td>\n",
              "      <td>2003.0</td>\n",
              "      <td>RFn</td>\n",
              "      <td>2</td>\n",
              "      <td>548</td>\n",
              "      <td>TA</td>\n",
              "      <td>TA</td>\n",
              "      <td>Y</td>\n",
              "      <td>0</td>\n",
              "      <td>61</td>\n",
              "      <td>0</td>\n",
              "      <td>0</td>\n",
              "      <td>0</td>\n",
              "      <td>0</td>\n",
              "      <td>0</td>\n",
              "      <td>2</td>\n",
              "      <td>2008</td>\n",
              "      <td>WD</td>\n",
              "      <td>Normal</td>\n",
              "      <td>208500</td>\n",
              "    </tr>\n",
              "    <tr>\n",
              "      <th>1</th>\n",
              "      <td>2</td>\n",
              "      <td>20</td>\n",
              "      <td>RL</td>\n",
              "      <td>80.0</td>\n",
              "      <td>9600</td>\n",
              "      <td>Pave</td>\n",
              "      <td>Reg</td>\n",
              "      <td>Lvl</td>\n",
              "      <td>AllPub</td>\n",
              "      <td>FR2</td>\n",
              "      <td>Gtl</td>\n",
              "      <td>Veenker</td>\n",
              "      <td>Feedr</td>\n",
              "      <td>Norm</td>\n",
              "      <td>1Fam</td>\n",
              "      <td>1Story</td>\n",
              "      <td>6</td>\n",
              "      <td>8</td>\n",
              "      <td>1976</td>\n",
              "      <td>1976</td>\n",
              "      <td>Gable</td>\n",
              "      <td>CompShg</td>\n",
              "      <td>MetalSd</td>\n",
              "      <td>MetalSd</td>\n",
              "      <td>None</td>\n",
              "      <td>0.0</td>\n",
              "      <td>TA</td>\n",
              "      <td>TA</td>\n",
              "      <td>CBlock</td>\n",
              "      <td>Gd</td>\n",
              "      <td>TA</td>\n",
              "      <td>Gd</td>\n",
              "      <td>ALQ</td>\n",
              "      <td>978</td>\n",
              "      <td>Unf</td>\n",
              "      <td>0</td>\n",
              "      <td>284</td>\n",
              "      <td>1262</td>\n",
              "      <td>GasA</td>\n",
              "      <td>Ex</td>\n",
              "      <td>Y</td>\n",
              "      <td>SBrkr</td>\n",
              "      <td>1262</td>\n",
              "      <td>0</td>\n",
              "      <td>0</td>\n",
              "      <td>1262</td>\n",
              "      <td>0</td>\n",
              "      <td>1</td>\n",
              "      <td>2</td>\n",
              "      <td>0</td>\n",
              "      <td>3</td>\n",
              "      <td>1</td>\n",
              "      <td>TA</td>\n",
              "      <td>6</td>\n",
              "      <td>Typ</td>\n",
              "      <td>1</td>\n",
              "      <td>TA</td>\n",
              "      <td>Attchd</td>\n",
              "      <td>1976.0</td>\n",
              "      <td>RFn</td>\n",
              "      <td>2</td>\n",
              "      <td>460</td>\n",
              "      <td>TA</td>\n",
              "      <td>TA</td>\n",
              "      <td>Y</td>\n",
              "      <td>298</td>\n",
              "      <td>0</td>\n",
              "      <td>0</td>\n",
              "      <td>0</td>\n",
              "      <td>0</td>\n",
              "      <td>0</td>\n",
              "      <td>0</td>\n",
              "      <td>5</td>\n",
              "      <td>2007</td>\n",
              "      <td>WD</td>\n",
              "      <td>Normal</td>\n",
              "      <td>181500</td>\n",
              "    </tr>\n",
              "  </tbody>\n",
              "</table>\n",
              "</div>"
            ],
            "text/plain": [
              "   Id  MSSubClass MSZoning  ...  SaleType  SaleCondition SalePrice\n",
              "0   1          60       RL  ...        WD         Normal    208500\n",
              "1   2          20       RL  ...        WD         Normal    181500\n",
              "\n",
              "[2 rows x 77 columns]"
            ]
          },
          "metadata": {
            "tags": []
          },
          "execution_count": 13
        }
      ]
    },
    {
      "cell_type": "code",
      "metadata": {
        "colab": {
          "base_uri": "https://localhost:8080/"
        },
        "id": "6e4d3529",
        "outputId": "a8eb178b-1360-4afc-ecfa-8a3b697a7119"
      },
      "source": [
        "data.shape"
      ],
      "id": "6e4d3529",
      "execution_count": null,
      "outputs": [
        {
          "output_type": "execute_result",
          "data": {
            "text/plain": [
              "(1460, 77)"
            ]
          },
          "metadata": {
            "tags": []
          },
          "execution_count": 14
        }
      ]
    },
    {
      "cell_type": "code",
      "metadata": {
        "id": "c26d6c4c"
      },
      "source": [
        "data.drop('Id',inplace=True, axis=1)"
      ],
      "id": "c26d6c4c",
      "execution_count": null,
      "outputs": []
    },
    {
      "cell_type": "code",
      "metadata": {
        "colab": {
          "base_uri": "https://localhost:8080/",
          "height": 101
        },
        "id": "13b288a7",
        "outputId": "04f9a4fe-b587-45fb-a5df-d10eceb8ca76"
      },
      "source": [
        "data.head(1)"
      ],
      "id": "13b288a7",
      "execution_count": null,
      "outputs": [
        {
          "output_type": "execute_result",
          "data": {
            "text/html": [
              "<div>\n",
              "<style scoped>\n",
              "    .dataframe tbody tr th:only-of-type {\n",
              "        vertical-align: middle;\n",
              "    }\n",
              "\n",
              "    .dataframe tbody tr th {\n",
              "        vertical-align: top;\n",
              "    }\n",
              "\n",
              "    .dataframe thead th {\n",
              "        text-align: right;\n",
              "    }\n",
              "</style>\n",
              "<table border=\"1\" class=\"dataframe\">\n",
              "  <thead>\n",
              "    <tr style=\"text-align: right;\">\n",
              "      <th></th>\n",
              "      <th>MSSubClass</th>\n",
              "      <th>MSZoning</th>\n",
              "      <th>LotFrontage</th>\n",
              "      <th>LotArea</th>\n",
              "      <th>Street</th>\n",
              "      <th>LotShape</th>\n",
              "      <th>LandContour</th>\n",
              "      <th>Utilities</th>\n",
              "      <th>LotConfig</th>\n",
              "      <th>LandSlope</th>\n",
              "      <th>Neighborhood</th>\n",
              "      <th>Condition1</th>\n",
              "      <th>Condition2</th>\n",
              "      <th>BldgType</th>\n",
              "      <th>HouseStyle</th>\n",
              "      <th>OverallQual</th>\n",
              "      <th>OverallCond</th>\n",
              "      <th>YearBuilt</th>\n",
              "      <th>YearRemodAdd</th>\n",
              "      <th>RoofStyle</th>\n",
              "      <th>RoofMatl</th>\n",
              "      <th>Exterior1st</th>\n",
              "      <th>Exterior2nd</th>\n",
              "      <th>MasVnrType</th>\n",
              "      <th>MasVnrArea</th>\n",
              "      <th>ExterQual</th>\n",
              "      <th>ExterCond</th>\n",
              "      <th>Foundation</th>\n",
              "      <th>BsmtQual</th>\n",
              "      <th>BsmtCond</th>\n",
              "      <th>BsmtExposure</th>\n",
              "      <th>BsmtFinType1</th>\n",
              "      <th>BsmtFinSF1</th>\n",
              "      <th>BsmtFinType2</th>\n",
              "      <th>BsmtFinSF2</th>\n",
              "      <th>BsmtUnfSF</th>\n",
              "      <th>TotalBsmtSF</th>\n",
              "      <th>Heating</th>\n",
              "      <th>HeatingQC</th>\n",
              "      <th>CentralAir</th>\n",
              "      <th>Electrical</th>\n",
              "      <th>1stFlrSF</th>\n",
              "      <th>2ndFlrSF</th>\n",
              "      <th>LowQualFinSF</th>\n",
              "      <th>GrLivArea</th>\n",
              "      <th>BsmtFullBath</th>\n",
              "      <th>BsmtHalfBath</th>\n",
              "      <th>FullBath</th>\n",
              "      <th>HalfBath</th>\n",
              "      <th>BedroomAbvGr</th>\n",
              "      <th>KitchenAbvGr</th>\n",
              "      <th>KitchenQual</th>\n",
              "      <th>TotRmsAbvGrd</th>\n",
              "      <th>Functional</th>\n",
              "      <th>Fireplaces</th>\n",
              "      <th>FireplaceQu</th>\n",
              "      <th>GarageType</th>\n",
              "      <th>GarageYrBlt</th>\n",
              "      <th>GarageFinish</th>\n",
              "      <th>GarageCars</th>\n",
              "      <th>GarageArea</th>\n",
              "      <th>GarageQual</th>\n",
              "      <th>GarageCond</th>\n",
              "      <th>PavedDrive</th>\n",
              "      <th>WoodDeckSF</th>\n",
              "      <th>OpenPorchSF</th>\n",
              "      <th>EnclosedPorch</th>\n",
              "      <th>3SsnPorch</th>\n",
              "      <th>ScreenPorch</th>\n",
              "      <th>PoolArea</th>\n",
              "      <th>MiscVal</th>\n",
              "      <th>MoSold</th>\n",
              "      <th>YrSold</th>\n",
              "      <th>SaleType</th>\n",
              "      <th>SaleCondition</th>\n",
              "      <th>SalePrice</th>\n",
              "    </tr>\n",
              "  </thead>\n",
              "  <tbody>\n",
              "    <tr>\n",
              "      <th>0</th>\n",
              "      <td>60</td>\n",
              "      <td>RL</td>\n",
              "      <td>65.0</td>\n",
              "      <td>8450</td>\n",
              "      <td>Pave</td>\n",
              "      <td>Reg</td>\n",
              "      <td>Lvl</td>\n",
              "      <td>AllPub</td>\n",
              "      <td>Inside</td>\n",
              "      <td>Gtl</td>\n",
              "      <td>CollgCr</td>\n",
              "      <td>Norm</td>\n",
              "      <td>Norm</td>\n",
              "      <td>1Fam</td>\n",
              "      <td>2Story</td>\n",
              "      <td>7</td>\n",
              "      <td>5</td>\n",
              "      <td>2003</td>\n",
              "      <td>2003</td>\n",
              "      <td>Gable</td>\n",
              "      <td>CompShg</td>\n",
              "      <td>VinylSd</td>\n",
              "      <td>VinylSd</td>\n",
              "      <td>BrkFace</td>\n",
              "      <td>196.0</td>\n",
              "      <td>Gd</td>\n",
              "      <td>TA</td>\n",
              "      <td>PConc</td>\n",
              "      <td>Gd</td>\n",
              "      <td>TA</td>\n",
              "      <td>No</td>\n",
              "      <td>GLQ</td>\n",
              "      <td>706</td>\n",
              "      <td>Unf</td>\n",
              "      <td>0</td>\n",
              "      <td>150</td>\n",
              "      <td>856</td>\n",
              "      <td>GasA</td>\n",
              "      <td>Ex</td>\n",
              "      <td>Y</td>\n",
              "      <td>SBrkr</td>\n",
              "      <td>856</td>\n",
              "      <td>854</td>\n",
              "      <td>0</td>\n",
              "      <td>1710</td>\n",
              "      <td>1</td>\n",
              "      <td>0</td>\n",
              "      <td>2</td>\n",
              "      <td>1</td>\n",
              "      <td>3</td>\n",
              "      <td>1</td>\n",
              "      <td>Gd</td>\n",
              "      <td>8</td>\n",
              "      <td>Typ</td>\n",
              "      <td>0</td>\n",
              "      <td>NaN</td>\n",
              "      <td>Attchd</td>\n",
              "      <td>2003.0</td>\n",
              "      <td>RFn</td>\n",
              "      <td>2</td>\n",
              "      <td>548</td>\n",
              "      <td>TA</td>\n",
              "      <td>TA</td>\n",
              "      <td>Y</td>\n",
              "      <td>0</td>\n",
              "      <td>61</td>\n",
              "      <td>0</td>\n",
              "      <td>0</td>\n",
              "      <td>0</td>\n",
              "      <td>0</td>\n",
              "      <td>0</td>\n",
              "      <td>2</td>\n",
              "      <td>2008</td>\n",
              "      <td>WD</td>\n",
              "      <td>Normal</td>\n",
              "      <td>208500</td>\n",
              "    </tr>\n",
              "  </tbody>\n",
              "</table>\n",
              "</div>"
            ],
            "text/plain": [
              "   MSSubClass MSZoning  LotFrontage  ...  SaleType SaleCondition SalePrice\n",
              "0          60       RL         65.0  ...        WD        Normal    208500\n",
              "\n",
              "[1 rows x 76 columns]"
            ]
          },
          "metadata": {
            "tags": []
          },
          "execution_count": 16
        }
      ]
    },
    {
      "cell_type": "code",
      "metadata": {
        "colab": {
          "base_uri": "https://localhost:8080/"
        },
        "id": "18e285d4",
        "outputId": "f1dadccc-3ba0-4cc5-d081-b430fc5cb7fe"
      },
      "source": [
        "original_features=list(data.columns)\n",
        "len(original_features)"
      ],
      "id": "18e285d4",
      "execution_count": null,
      "outputs": [
        {
          "output_type": "execute_result",
          "data": {
            "text/plain": [
              "76"
            ]
          },
          "metadata": {
            "tags": []
          },
          "execution_count": 17
        }
      ]
    },
    {
      "cell_type": "code",
      "metadata": {
        "colab": {
          "base_uri": "https://localhost:8080/"
        },
        "id": "18487afa",
        "outputId": "313939e7-d969-41f0-8ca2-3eb3eb116893"
      },
      "source": [
        "features_missing_values=list(data.columns[data.isna().any()])\n",
        "len(features_missing_values)"
      ],
      "id": "18487afa",
      "execution_count": null,
      "outputs": [
        {
          "output_type": "execute_result",
          "data": {
            "text/plain": [
              "15"
            ]
          },
          "metadata": {
            "tags": []
          },
          "execution_count": 18
        }
      ]
    },
    {
      "cell_type": "code",
      "metadata": {
        "colab": {
          "base_uri": "https://localhost:8080/"
        },
        "id": "e975639a",
        "outputId": "6daf3848-70cd-416d-fa7f-885ecb313ea2"
      },
      "source": [
        "features_missing_values"
      ],
      "id": "e975639a",
      "execution_count": null,
      "outputs": [
        {
          "output_type": "execute_result",
          "data": {
            "text/plain": [
              "['LotFrontage',\n",
              " 'MasVnrType',\n",
              " 'MasVnrArea',\n",
              " 'BsmtQual',\n",
              " 'BsmtCond',\n",
              " 'BsmtExposure',\n",
              " 'BsmtFinType1',\n",
              " 'BsmtFinType2',\n",
              " 'Electrical',\n",
              " 'FireplaceQu',\n",
              " 'GarageType',\n",
              " 'GarageYrBlt',\n",
              " 'GarageFinish',\n",
              " 'GarageQual',\n",
              " 'GarageCond']"
            ]
          },
          "metadata": {
            "tags": []
          },
          "execution_count": 19
        }
      ]
    },
    {
      "cell_type": "code",
      "metadata": {
        "colab": {
          "base_uri": "https://localhost:8080/"
        },
        "id": "3ad7baed",
        "outputId": "65242934-2785-40bf-d20e-c55730cd0570"
      },
      "source": [
        "len(data)"
      ],
      "id": "3ad7baed",
      "execution_count": null,
      "outputs": [
        {
          "output_type": "execute_result",
          "data": {
            "text/plain": [
              "1460"
            ]
          },
          "metadata": {
            "tags": []
          },
          "execution_count": 20
        }
      ]
    },
    {
      "cell_type": "markdown",
      "metadata": {
        "id": "b034bbe5"
      },
      "source": [
        "## Fill in Missing Features"
      ],
      "id": "b034bbe5"
    },
    {
      "cell_type": "code",
      "metadata": {
        "id": "8ee17315"
      },
      "source": [
        "bfill,mean_fill = [],[]"
      ],
      "id": "8ee17315",
      "execution_count": null,
      "outputs": []
    },
    {
      "cell_type": "code",
      "metadata": {
        "colab": {
          "base_uri": "https://localhost:8080/"
        },
        "id": "9b1c6a06",
        "outputId": "70b4a736-1250-4191-c079-ba8ca4123124"
      },
      "source": [
        "for feature in features_missing_values:\n",
        "  print(feature,' ',data[feature].isna().sum()/len(data)*100,' ',data[feature].dtype)\n",
        "  if data[feature].dtype=='float64':\n",
        "    mean_fill.append(feature)\n",
        "  else:\n",
        "    bfill.append(feature)"
      ],
      "id": "9b1c6a06",
      "execution_count": null,
      "outputs": [
        {
          "output_type": "stream",
          "text": [
            "LotFrontage   17.73972602739726   float64\n",
            "MasVnrType   0.547945205479452   object\n",
            "MasVnrArea   0.547945205479452   float64\n",
            "BsmtQual   2.5342465753424657   object\n",
            "BsmtCond   2.5342465753424657   object\n",
            "BsmtExposure   2.6027397260273974   object\n",
            "BsmtFinType1   2.5342465753424657   object\n",
            "BsmtFinType2   2.6027397260273974   object\n",
            "Electrical   0.0684931506849315   object\n",
            "FireplaceQu   47.26027397260274   object\n",
            "GarageType   5.5479452054794525   object\n",
            "GarageYrBlt   5.5479452054794525   float64\n",
            "GarageFinish   5.5479452054794525   object\n",
            "GarageQual   5.5479452054794525   object\n",
            "GarageCond   5.5479452054794525   object\n"
          ],
          "name": "stdout"
        }
      ]
    },
    {
      "cell_type": "code",
      "metadata": {
        "colab": {
          "base_uri": "https://localhost:8080/"
        },
        "id": "fee31a73",
        "outputId": "7ce146a6-e9fa-4419-9a15-a89518eed3ef"
      },
      "source": [
        "mean_fill"
      ],
      "id": "fee31a73",
      "execution_count": null,
      "outputs": [
        {
          "output_type": "execute_result",
          "data": {
            "text/plain": [
              "['LotFrontage', 'MasVnrArea', 'GarageYrBlt']"
            ]
          },
          "metadata": {
            "tags": []
          },
          "execution_count": 23
        }
      ]
    },
    {
      "cell_type": "code",
      "metadata": {
        "id": "b0f3e28f"
      },
      "source": [
        "for feature in mean_fill:\n",
        "  data[feature].fillna(data[feature].mean(),inplace=True)"
      ],
      "id": "b0f3e28f",
      "execution_count": null,
      "outputs": []
    },
    {
      "cell_type": "code",
      "metadata": {
        "id": "47d9edfe"
      },
      "source": [
        "for feature in bfill:\n",
        "  data[feature].fillna(method='bfill',inplace=True)"
      ],
      "id": "47d9edfe",
      "execution_count": null,
      "outputs": []
    },
    {
      "cell_type": "code",
      "metadata": {
        "colab": {
          "base_uri": "https://localhost:8080/"
        },
        "id": "5cf50704",
        "outputId": "06482b8f-229c-4e6b-c255-fcbba4cde5a6"
      },
      "source": [
        "data.columns[data.isna().any()]"
      ],
      "id": "5cf50704",
      "execution_count": null,
      "outputs": [
        {
          "output_type": "execute_result",
          "data": {
            "text/plain": [
              "Index(['FireplaceQu'], dtype='object')"
            ]
          },
          "metadata": {
            "tags": []
          },
          "execution_count": 26
        }
      ]
    },
    {
      "cell_type": "code",
      "metadata": {
        "colab": {
          "base_uri": "https://localhost:8080/"
        },
        "id": "33fb3ace",
        "outputId": "32559393-bce7-4d1f-d1f8-43106a4246b3"
      },
      "source": [
        "data['FireplaceQu'].isna().sum()"
      ],
      "id": "33fb3ace",
      "execution_count": null,
      "outputs": [
        {
          "output_type": "execute_result",
          "data": {
            "text/plain": [
              "2"
            ]
          },
          "metadata": {
            "tags": []
          },
          "execution_count": 27
        }
      ]
    },
    {
      "cell_type": "code",
      "metadata": {
        "id": "766aa8ce"
      },
      "source": [
        "data['FireplaceQu'].fillna(method='ffill',inplace=True)"
      ],
      "id": "766aa8ce",
      "execution_count": null,
      "outputs": []
    },
    {
      "cell_type": "markdown",
      "metadata": {
        "id": "a1e66abd"
      },
      "source": [
        "# Encode the Dataset"
      ],
      "id": "a1e66abd"
    },
    {
      "cell_type": "code",
      "metadata": {
        "colab": {
          "base_uri": "https://localhost:8080/"
        },
        "id": "aec87197",
        "outputId": "33442432-1401-42cd-d2e7-693cb757c287"
      },
      "source": [
        "categorical_features=list(data.select_dtypes(include=['object']).columns)\n",
        "categorical_features"
      ],
      "id": "aec87197",
      "execution_count": null,
      "outputs": [
        {
          "output_type": "execute_result",
          "data": {
            "text/plain": [
              "['MSZoning',\n",
              " 'Street',\n",
              " 'LotShape',\n",
              " 'LandContour',\n",
              " 'Utilities',\n",
              " 'LotConfig',\n",
              " 'LandSlope',\n",
              " 'Neighborhood',\n",
              " 'Condition1',\n",
              " 'Condition2',\n",
              " 'BldgType',\n",
              " 'HouseStyle',\n",
              " 'RoofStyle',\n",
              " 'RoofMatl',\n",
              " 'Exterior1st',\n",
              " 'Exterior2nd',\n",
              " 'MasVnrType',\n",
              " 'ExterQual',\n",
              " 'ExterCond',\n",
              " 'Foundation',\n",
              " 'BsmtQual',\n",
              " 'BsmtCond',\n",
              " 'BsmtExposure',\n",
              " 'BsmtFinType1',\n",
              " 'BsmtFinType2',\n",
              " 'Heating',\n",
              " 'HeatingQC',\n",
              " 'CentralAir',\n",
              " 'Electrical',\n",
              " 'KitchenQual',\n",
              " 'Functional',\n",
              " 'FireplaceQu',\n",
              " 'GarageType',\n",
              " 'GarageFinish',\n",
              " 'GarageQual',\n",
              " 'GarageCond',\n",
              " 'PavedDrive',\n",
              " 'SaleType',\n",
              " 'SaleCondition']"
            ]
          },
          "metadata": {
            "tags": []
          },
          "execution_count": 29
        }
      ]
    },
    {
      "cell_type": "code",
      "metadata": {
        "colab": {
          "base_uri": "https://localhost:8080/"
        },
        "id": "e0791470",
        "outputId": "c1250e46-964e-45de-aa08-e9c8c1d0d313"
      },
      "source": [
        "numerical=list(set(original_features)-set(categorical_features))\n",
        "numerical"
      ],
      "id": "e0791470",
      "execution_count": null,
      "outputs": [
        {
          "output_type": "execute_result",
          "data": {
            "text/plain": [
              "['PoolArea',\n",
              " 'TotRmsAbvGrd',\n",
              " 'LotArea',\n",
              " '3SsnPorch',\n",
              " 'SalePrice',\n",
              " 'WoodDeckSF',\n",
              " 'TotalBsmtSF',\n",
              " 'GrLivArea',\n",
              " 'HalfBath',\n",
              " '1stFlrSF',\n",
              " 'Fireplaces',\n",
              " 'MSSubClass',\n",
              " 'OverallCond',\n",
              " 'MasVnrArea',\n",
              " 'BsmtFinSF1',\n",
              " 'YearBuilt',\n",
              " 'GarageYrBlt',\n",
              " 'LotFrontage',\n",
              " 'OverallQual',\n",
              " 'BedroomAbvGr',\n",
              " 'BsmtUnfSF',\n",
              " 'BsmtFullBath',\n",
              " 'KitchenAbvGr',\n",
              " 'YrSold',\n",
              " 'FullBath',\n",
              " 'BsmtFinSF2',\n",
              " 'GarageArea',\n",
              " 'ScreenPorch',\n",
              " 'MiscVal',\n",
              " 'OpenPorchSF',\n",
              " 'LowQualFinSF',\n",
              " '2ndFlrSF',\n",
              " 'BsmtHalfBath',\n",
              " 'GarageCars',\n",
              " 'EnclosedPorch',\n",
              " 'MoSold',\n",
              " 'YearRemodAdd']"
            ]
          },
          "metadata": {
            "tags": []
          },
          "execution_count": 30
        }
      ]
    },
    {
      "cell_type": "code",
      "metadata": {
        "colab": {
          "base_uri": "https://localhost:8080/"
        },
        "id": "27aa6408",
        "outputId": "72fd9aa1-3640-4dba-90a0-a2b68bbce08d"
      },
      "source": [
        "categorical_features"
      ],
      "id": "27aa6408",
      "execution_count": null,
      "outputs": [
        {
          "output_type": "execute_result",
          "data": {
            "text/plain": [
              "['MSZoning',\n",
              " 'Street',\n",
              " 'LotShape',\n",
              " 'LandContour',\n",
              " 'Utilities',\n",
              " 'LotConfig',\n",
              " 'LandSlope',\n",
              " 'Neighborhood',\n",
              " 'Condition1',\n",
              " 'Condition2',\n",
              " 'BldgType',\n",
              " 'HouseStyle',\n",
              " 'RoofStyle',\n",
              " 'RoofMatl',\n",
              " 'Exterior1st',\n",
              " 'Exterior2nd',\n",
              " 'MasVnrType',\n",
              " 'ExterQual',\n",
              " 'ExterCond',\n",
              " 'Foundation',\n",
              " 'BsmtQual',\n",
              " 'BsmtCond',\n",
              " 'BsmtExposure',\n",
              " 'BsmtFinType1',\n",
              " 'BsmtFinType2',\n",
              " 'Heating',\n",
              " 'HeatingQC',\n",
              " 'CentralAir',\n",
              " 'Electrical',\n",
              " 'KitchenQual',\n",
              " 'Functional',\n",
              " 'FireplaceQu',\n",
              " 'GarageType',\n",
              " 'GarageFinish',\n",
              " 'GarageQual',\n",
              " 'GarageCond',\n",
              " 'PavedDrive',\n",
              " 'SaleType',\n",
              " 'SaleCondition']"
            ]
          },
          "metadata": {
            "tags": []
          },
          "execution_count": 31
        }
      ]
    },
    {
      "cell_type": "code",
      "metadata": {
        "id": "894b8770"
      },
      "source": [
        "nominal=['MSZoning','LandContour','Neighborhood']\n",
        "ordinal=list(set(categorical_features)-set(nominal))"
      ],
      "id": "894b8770",
      "execution_count": null,
      "outputs": []
    },
    {
      "cell_type": "code",
      "metadata": {
        "id": "79e9d5c1"
      },
      "source": [
        "target=['SalePrice']"
      ],
      "id": "79e9d5c1",
      "execution_count": null,
      "outputs": []
    },
    {
      "cell_type": "code",
      "metadata": {
        "id": "e6fb8aca"
      },
      "source": [
        "df_nominal=pd.get_dummies(data[nominal])"
      ],
      "id": "e6fb8aca",
      "execution_count": null,
      "outputs": []
    },
    {
      "cell_type": "code",
      "metadata": {
        "id": "c4f63007"
      },
      "source": [
        "for feature in ordinal:\n",
        "  data[feature]=data[feature].astype('category').cat.codes\n",
        "\n",
        "df_ordinal=data[ordinal]"
      ],
      "id": "c4f63007",
      "execution_count": null,
      "outputs": []
    },
    {
      "cell_type": "code",
      "metadata": {
        "colab": {
          "base_uri": "https://localhost:8080/"
        },
        "id": "72295deb",
        "outputId": "6b45257f-6a1f-4149-d191-fa8cc9c3e3b7"
      },
      "source": [
        "data[numerical]"
      ],
      "id": "72295deb",
      "execution_count": null,
      "outputs": [
        {
          "output_type": "execute_result",
          "data": {
            "text/html": [
              "<div>\n",
              "<style scoped>\n",
              "    .dataframe tbody tr th:only-of-type {\n",
              "        vertical-align: middle;\n",
              "    }\n",
              "\n",
              "    .dataframe tbody tr th {\n",
              "        vertical-align: top;\n",
              "    }\n",
              "\n",
              "    .dataframe thead th {\n",
              "        text-align: right;\n",
              "    }\n",
              "</style>\n",
              "<table border=\"1\" class=\"dataframe\">\n",
              "  <thead>\n",
              "    <tr style=\"text-align: right;\">\n",
              "      <th></th>\n",
              "      <th>PoolArea</th>\n",
              "      <th>TotRmsAbvGrd</th>\n",
              "      <th>LotArea</th>\n",
              "      <th>3SsnPorch</th>\n",
              "      <th>SalePrice</th>\n",
              "      <th>WoodDeckSF</th>\n",
              "      <th>TotalBsmtSF</th>\n",
              "      <th>GrLivArea</th>\n",
              "      <th>HalfBath</th>\n",
              "      <th>1stFlrSF</th>\n",
              "      <th>Fireplaces</th>\n",
              "      <th>MSSubClass</th>\n",
              "      <th>OverallCond</th>\n",
              "      <th>MasVnrArea</th>\n",
              "      <th>BsmtFinSF1</th>\n",
              "      <th>YearBuilt</th>\n",
              "      <th>GarageYrBlt</th>\n",
              "      <th>LotFrontage</th>\n",
              "      <th>OverallQual</th>\n",
              "      <th>BedroomAbvGr</th>\n",
              "      <th>BsmtUnfSF</th>\n",
              "      <th>BsmtFullBath</th>\n",
              "      <th>KitchenAbvGr</th>\n",
              "      <th>YrSold</th>\n",
              "      <th>FullBath</th>\n",
              "      <th>BsmtFinSF2</th>\n",
              "      <th>GarageArea</th>\n",
              "      <th>ScreenPorch</th>\n",
              "      <th>MiscVal</th>\n",
              "      <th>OpenPorchSF</th>\n",
              "      <th>LowQualFinSF</th>\n",
              "      <th>2ndFlrSF</th>\n",
              "      <th>BsmtHalfBath</th>\n",
              "      <th>GarageCars</th>\n",
              "      <th>EnclosedPorch</th>\n",
              "      <th>MoSold</th>\n",
              "      <th>YearRemodAdd</th>\n",
              "    </tr>\n",
              "  </thead>\n",
              "  <tbody>\n",
              "    <tr>\n",
              "      <th>0</th>\n",
              "      <td>0</td>\n",
              "      <td>8</td>\n",
              "      <td>8450</td>\n",
              "      <td>0</td>\n",
              "      <td>208500</td>\n",
              "      <td>0</td>\n",
              "      <td>856</td>\n",
              "      <td>1710</td>\n",
              "      <td>1</td>\n",
              "      <td>856</td>\n",
              "      <td>0</td>\n",
              "      <td>60</td>\n",
              "      <td>5</td>\n",
              "      <td>196.0</td>\n",
              "      <td>706</td>\n",
              "      <td>2003</td>\n",
              "      <td>2003.0</td>\n",
              "      <td>65.0</td>\n",
              "      <td>7</td>\n",
              "      <td>3</td>\n",
              "      <td>150</td>\n",
              "      <td>1</td>\n",
              "      <td>1</td>\n",
              "      <td>2008</td>\n",
              "      <td>2</td>\n",
              "      <td>0</td>\n",
              "      <td>548</td>\n",
              "      <td>0</td>\n",
              "      <td>0</td>\n",
              "      <td>61</td>\n",
              "      <td>0</td>\n",
              "      <td>854</td>\n",
              "      <td>0</td>\n",
              "      <td>2</td>\n",
              "      <td>0</td>\n",
              "      <td>2</td>\n",
              "      <td>2003</td>\n",
              "    </tr>\n",
              "    <tr>\n",
              "      <th>1</th>\n",
              "      <td>0</td>\n",
              "      <td>6</td>\n",
              "      <td>9600</td>\n",
              "      <td>0</td>\n",
              "      <td>181500</td>\n",
              "      <td>298</td>\n",
              "      <td>1262</td>\n",
              "      <td>1262</td>\n",
              "      <td>0</td>\n",
              "      <td>1262</td>\n",
              "      <td>1</td>\n",
              "      <td>20</td>\n",
              "      <td>8</td>\n",
              "      <td>0.0</td>\n",
              "      <td>978</td>\n",
              "      <td>1976</td>\n",
              "      <td>1976.0</td>\n",
              "      <td>80.0</td>\n",
              "      <td>6</td>\n",
              "      <td>3</td>\n",
              "      <td>284</td>\n",
              "      <td>0</td>\n",
              "      <td>1</td>\n",
              "      <td>2007</td>\n",
              "      <td>2</td>\n",
              "      <td>0</td>\n",
              "      <td>460</td>\n",
              "      <td>0</td>\n",
              "      <td>0</td>\n",
              "      <td>0</td>\n",
              "      <td>0</td>\n",
              "      <td>0</td>\n",
              "      <td>1</td>\n",
              "      <td>2</td>\n",
              "      <td>0</td>\n",
              "      <td>5</td>\n",
              "      <td>1976</td>\n",
              "    </tr>\n",
              "    <tr>\n",
              "      <th>2</th>\n",
              "      <td>0</td>\n",
              "      <td>6</td>\n",
              "      <td>11250</td>\n",
              "      <td>0</td>\n",
              "      <td>223500</td>\n",
              "      <td>0</td>\n",
              "      <td>920</td>\n",
              "      <td>1786</td>\n",
              "      <td>1</td>\n",
              "      <td>920</td>\n",
              "      <td>1</td>\n",
              "      <td>60</td>\n",
              "      <td>5</td>\n",
              "      <td>162.0</td>\n",
              "      <td>486</td>\n",
              "      <td>2001</td>\n",
              "      <td>2001.0</td>\n",
              "      <td>68.0</td>\n",
              "      <td>7</td>\n",
              "      <td>3</td>\n",
              "      <td>434</td>\n",
              "      <td>1</td>\n",
              "      <td>1</td>\n",
              "      <td>2008</td>\n",
              "      <td>2</td>\n",
              "      <td>0</td>\n",
              "      <td>608</td>\n",
              "      <td>0</td>\n",
              "      <td>0</td>\n",
              "      <td>42</td>\n",
              "      <td>0</td>\n",
              "      <td>866</td>\n",
              "      <td>0</td>\n",
              "      <td>2</td>\n",
              "      <td>0</td>\n",
              "      <td>9</td>\n",
              "      <td>2002</td>\n",
              "    </tr>\n",
              "    <tr>\n",
              "      <th>3</th>\n",
              "      <td>0</td>\n",
              "      <td>7</td>\n",
              "      <td>9550</td>\n",
              "      <td>0</td>\n",
              "      <td>140000</td>\n",
              "      <td>0</td>\n",
              "      <td>756</td>\n",
              "      <td>1717</td>\n",
              "      <td>0</td>\n",
              "      <td>961</td>\n",
              "      <td>1</td>\n",
              "      <td>70</td>\n",
              "      <td>5</td>\n",
              "      <td>0.0</td>\n",
              "      <td>216</td>\n",
              "      <td>1915</td>\n",
              "      <td>1998.0</td>\n",
              "      <td>60.0</td>\n",
              "      <td>7</td>\n",
              "      <td>3</td>\n",
              "      <td>540</td>\n",
              "      <td>1</td>\n",
              "      <td>1</td>\n",
              "      <td>2006</td>\n",
              "      <td>1</td>\n",
              "      <td>0</td>\n",
              "      <td>642</td>\n",
              "      <td>0</td>\n",
              "      <td>0</td>\n",
              "      <td>35</td>\n",
              "      <td>0</td>\n",
              "      <td>756</td>\n",
              "      <td>0</td>\n",
              "      <td>3</td>\n",
              "      <td>272</td>\n",
              "      <td>2</td>\n",
              "      <td>1970</td>\n",
              "    </tr>\n",
              "    <tr>\n",
              "      <th>4</th>\n",
              "      <td>0</td>\n",
              "      <td>9</td>\n",
              "      <td>14260</td>\n",
              "      <td>0</td>\n",
              "      <td>250000</td>\n",
              "      <td>192</td>\n",
              "      <td>1145</td>\n",
              "      <td>2198</td>\n",
              "      <td>1</td>\n",
              "      <td>1145</td>\n",
              "      <td>1</td>\n",
              "      <td>60</td>\n",
              "      <td>5</td>\n",
              "      <td>350.0</td>\n",
              "      <td>655</td>\n",
              "      <td>2000</td>\n",
              "      <td>2000.0</td>\n",
              "      <td>84.0</td>\n",
              "      <td>8</td>\n",
              "      <td>4</td>\n",
              "      <td>490</td>\n",
              "      <td>1</td>\n",
              "      <td>1</td>\n",
              "      <td>2008</td>\n",
              "      <td>2</td>\n",
              "      <td>0</td>\n",
              "      <td>836</td>\n",
              "      <td>0</td>\n",
              "      <td>0</td>\n",
              "      <td>84</td>\n",
              "      <td>0</td>\n",
              "      <td>1053</td>\n",
              "      <td>0</td>\n",
              "      <td>3</td>\n",
              "      <td>0</td>\n",
              "      <td>12</td>\n",
              "      <td>2000</td>\n",
              "    </tr>\n",
              "    <tr>\n",
              "      <th>...</th>\n",
              "      <td>...</td>\n",
              "      <td>...</td>\n",
              "      <td>...</td>\n",
              "      <td>...</td>\n",
              "      <td>...</td>\n",
              "      <td>...</td>\n",
              "      <td>...</td>\n",
              "      <td>...</td>\n",
              "      <td>...</td>\n",
              "      <td>...</td>\n",
              "      <td>...</td>\n",
              "      <td>...</td>\n",
              "      <td>...</td>\n",
              "      <td>...</td>\n",
              "      <td>...</td>\n",
              "      <td>...</td>\n",
              "      <td>...</td>\n",
              "      <td>...</td>\n",
              "      <td>...</td>\n",
              "      <td>...</td>\n",
              "      <td>...</td>\n",
              "      <td>...</td>\n",
              "      <td>...</td>\n",
              "      <td>...</td>\n",
              "      <td>...</td>\n",
              "      <td>...</td>\n",
              "      <td>...</td>\n",
              "      <td>...</td>\n",
              "      <td>...</td>\n",
              "      <td>...</td>\n",
              "      <td>...</td>\n",
              "      <td>...</td>\n",
              "      <td>...</td>\n",
              "      <td>...</td>\n",
              "      <td>...</td>\n",
              "      <td>...</td>\n",
              "      <td>...</td>\n",
              "    </tr>\n",
              "    <tr>\n",
              "      <th>1455</th>\n",
              "      <td>0</td>\n",
              "      <td>7</td>\n",
              "      <td>7917</td>\n",
              "      <td>0</td>\n",
              "      <td>175000</td>\n",
              "      <td>0</td>\n",
              "      <td>953</td>\n",
              "      <td>1647</td>\n",
              "      <td>1</td>\n",
              "      <td>953</td>\n",
              "      <td>1</td>\n",
              "      <td>60</td>\n",
              "      <td>5</td>\n",
              "      <td>0.0</td>\n",
              "      <td>0</td>\n",
              "      <td>1999</td>\n",
              "      <td>1999.0</td>\n",
              "      <td>62.0</td>\n",
              "      <td>6</td>\n",
              "      <td>3</td>\n",
              "      <td>953</td>\n",
              "      <td>0</td>\n",
              "      <td>1</td>\n",
              "      <td>2007</td>\n",
              "      <td>2</td>\n",
              "      <td>0</td>\n",
              "      <td>460</td>\n",
              "      <td>0</td>\n",
              "      <td>0</td>\n",
              "      <td>40</td>\n",
              "      <td>0</td>\n",
              "      <td>694</td>\n",
              "      <td>0</td>\n",
              "      <td>2</td>\n",
              "      <td>0</td>\n",
              "      <td>8</td>\n",
              "      <td>2000</td>\n",
              "    </tr>\n",
              "    <tr>\n",
              "      <th>1456</th>\n",
              "      <td>0</td>\n",
              "      <td>7</td>\n",
              "      <td>13175</td>\n",
              "      <td>0</td>\n",
              "      <td>210000</td>\n",
              "      <td>349</td>\n",
              "      <td>1542</td>\n",
              "      <td>2073</td>\n",
              "      <td>0</td>\n",
              "      <td>2073</td>\n",
              "      <td>2</td>\n",
              "      <td>20</td>\n",
              "      <td>6</td>\n",
              "      <td>119.0</td>\n",
              "      <td>790</td>\n",
              "      <td>1978</td>\n",
              "      <td>1978.0</td>\n",
              "      <td>85.0</td>\n",
              "      <td>6</td>\n",
              "      <td>3</td>\n",
              "      <td>589</td>\n",
              "      <td>1</td>\n",
              "      <td>1</td>\n",
              "      <td>2010</td>\n",
              "      <td>2</td>\n",
              "      <td>163</td>\n",
              "      <td>500</td>\n",
              "      <td>0</td>\n",
              "      <td>0</td>\n",
              "      <td>0</td>\n",
              "      <td>0</td>\n",
              "      <td>0</td>\n",
              "      <td>0</td>\n",
              "      <td>2</td>\n",
              "      <td>0</td>\n",
              "      <td>2</td>\n",
              "      <td>1988</td>\n",
              "    </tr>\n",
              "    <tr>\n",
              "      <th>1457</th>\n",
              "      <td>0</td>\n",
              "      <td>9</td>\n",
              "      <td>9042</td>\n",
              "      <td>0</td>\n",
              "      <td>266500</td>\n",
              "      <td>0</td>\n",
              "      <td>1152</td>\n",
              "      <td>2340</td>\n",
              "      <td>0</td>\n",
              "      <td>1188</td>\n",
              "      <td>2</td>\n",
              "      <td>70</td>\n",
              "      <td>9</td>\n",
              "      <td>0.0</td>\n",
              "      <td>275</td>\n",
              "      <td>1941</td>\n",
              "      <td>1941.0</td>\n",
              "      <td>66.0</td>\n",
              "      <td>7</td>\n",
              "      <td>4</td>\n",
              "      <td>877</td>\n",
              "      <td>0</td>\n",
              "      <td>1</td>\n",
              "      <td>2010</td>\n",
              "      <td>2</td>\n",
              "      <td>0</td>\n",
              "      <td>252</td>\n",
              "      <td>0</td>\n",
              "      <td>2500</td>\n",
              "      <td>60</td>\n",
              "      <td>0</td>\n",
              "      <td>1152</td>\n",
              "      <td>0</td>\n",
              "      <td>1</td>\n",
              "      <td>0</td>\n",
              "      <td>5</td>\n",
              "      <td>2006</td>\n",
              "    </tr>\n",
              "    <tr>\n",
              "      <th>1458</th>\n",
              "      <td>0</td>\n",
              "      <td>5</td>\n",
              "      <td>9717</td>\n",
              "      <td>0</td>\n",
              "      <td>142125</td>\n",
              "      <td>366</td>\n",
              "      <td>1078</td>\n",
              "      <td>1078</td>\n",
              "      <td>0</td>\n",
              "      <td>1078</td>\n",
              "      <td>0</td>\n",
              "      <td>20</td>\n",
              "      <td>6</td>\n",
              "      <td>0.0</td>\n",
              "      <td>49</td>\n",
              "      <td>1950</td>\n",
              "      <td>1950.0</td>\n",
              "      <td>68.0</td>\n",
              "      <td>5</td>\n",
              "      <td>2</td>\n",
              "      <td>0</td>\n",
              "      <td>1</td>\n",
              "      <td>1</td>\n",
              "      <td>2010</td>\n",
              "      <td>1</td>\n",
              "      <td>1029</td>\n",
              "      <td>240</td>\n",
              "      <td>0</td>\n",
              "      <td>0</td>\n",
              "      <td>0</td>\n",
              "      <td>0</td>\n",
              "      <td>0</td>\n",
              "      <td>0</td>\n",
              "      <td>1</td>\n",
              "      <td>112</td>\n",
              "      <td>4</td>\n",
              "      <td>1996</td>\n",
              "    </tr>\n",
              "    <tr>\n",
              "      <th>1459</th>\n",
              "      <td>0</td>\n",
              "      <td>6</td>\n",
              "      <td>9937</td>\n",
              "      <td>0</td>\n",
              "      <td>147500</td>\n",
              "      <td>736</td>\n",
              "      <td>1256</td>\n",
              "      <td>1256</td>\n",
              "      <td>1</td>\n",
              "      <td>1256</td>\n",
              "      <td>0</td>\n",
              "      <td>20</td>\n",
              "      <td>6</td>\n",
              "      <td>0.0</td>\n",
              "      <td>830</td>\n",
              "      <td>1965</td>\n",
              "      <td>1965.0</td>\n",
              "      <td>75.0</td>\n",
              "      <td>5</td>\n",
              "      <td>3</td>\n",
              "      <td>136</td>\n",
              "      <td>1</td>\n",
              "      <td>1</td>\n",
              "      <td>2008</td>\n",
              "      <td>1</td>\n",
              "      <td>290</td>\n",
              "      <td>276</td>\n",
              "      <td>0</td>\n",
              "      <td>0</td>\n",
              "      <td>68</td>\n",
              "      <td>0</td>\n",
              "      <td>0</td>\n",
              "      <td>0</td>\n",
              "      <td>1</td>\n",
              "      <td>0</td>\n",
              "      <td>6</td>\n",
              "      <td>1965</td>\n",
              "    </tr>\n",
              "  </tbody>\n",
              "</table>\n",
              "<p>1460 rows × 37 columns</p>\n",
              "</div>"
            ],
            "text/plain": [
              "      PoolArea  TotRmsAbvGrd  LotArea  ...  EnclosedPorch  MoSold  YearRemodAdd\n",
              "0            0             8     8450  ...              0       2          2003\n",
              "1            0             6     9600  ...              0       5          1976\n",
              "2            0             6    11250  ...              0       9          2002\n",
              "3            0             7     9550  ...            272       2          1970\n",
              "4            0             9    14260  ...              0      12          2000\n",
              "...        ...           ...      ...  ...            ...     ...           ...\n",
              "1455         0             7     7917  ...              0       8          2000\n",
              "1456         0             7    13175  ...              0       2          1988\n",
              "1457         0             9     9042  ...              0       5          2006\n",
              "1458         0             5     9717  ...            112       4          1996\n",
              "1459         0             6     9937  ...              0       6          1965\n",
              "\n",
              "[1460 rows x 37 columns]"
            ]
          },
          "metadata": {
            "tags": []
          },
          "execution_count": 36
        }
      ]
    },
    {
      "cell_type": "code",
      "metadata": {
        "id": "64ada61c"
      },
      "source": [
        "new_data=pd.concat([df_nominal,df_ordinal,data[numerical]],axis=1)"
      ],
      "id": "64ada61c",
      "execution_count": null,
      "outputs": []
    },
    {
      "cell_type": "code",
      "metadata": {
        "colab": {
          "base_uri": "https://localhost:8080/"
        },
        "id": "ee05ffa6",
        "outputId": "7052d259-3271-49d4-8c5f-cfb7c6ff17b2"
      },
      "source": [
        "new_data.shape"
      ],
      "id": "ee05ffa6",
      "execution_count": null,
      "outputs": [
        {
          "output_type": "execute_result",
          "data": {
            "text/plain": [
              "(1460, 107)"
            ]
          },
          "metadata": {
            "tags": []
          },
          "execution_count": 38
        }
      ]
    },
    {
      "cell_type": "markdown",
      "metadata": {
        "id": "2272ffb5"
      },
      "source": [
        "# Standardizing the dataset"
      ],
      "id": "2272ffb5"
    },
    {
      "cell_type": "code",
      "metadata": {
        "id": "1bf7bec6"
      },
      "source": [
        "new_data.drop('SalePrice',axis=1,inplace=True)"
      ],
      "id": "1bf7bec6",
      "execution_count": null,
      "outputs": []
    },
    {
      "cell_type": "code",
      "metadata": {
        "id": "1b8b72d3"
      },
      "source": [
        "X=new_data.to_numpy()"
      ],
      "id": "1b8b72d3",
      "execution_count": null,
      "outputs": []
    },
    {
      "cell_type": "code",
      "metadata": {
        "colab": {
          "base_uri": "https://localhost:8080/"
        },
        "id": "96be7019",
        "scrolled": true,
        "outputId": "0377ea4a-d9d8-400b-a602-b222ccd9f517"
      },
      "source": [
        "X"
      ],
      "id": "96be7019",
      "execution_count": null,
      "outputs": [
        {
          "output_type": "execute_result",
          "data": {
            "text/plain": [
              "array([[0.000e+00, 0.000e+00, 0.000e+00, ..., 0.000e+00, 2.000e+00,\n",
              "        2.003e+03],\n",
              "       [0.000e+00, 0.000e+00, 0.000e+00, ..., 0.000e+00, 5.000e+00,\n",
              "        1.976e+03],\n",
              "       [0.000e+00, 0.000e+00, 0.000e+00, ..., 0.000e+00, 9.000e+00,\n",
              "        2.002e+03],\n",
              "       ...,\n",
              "       [0.000e+00, 0.000e+00, 0.000e+00, ..., 0.000e+00, 5.000e+00,\n",
              "        2.006e+03],\n",
              "       [0.000e+00, 0.000e+00, 0.000e+00, ..., 1.120e+02, 4.000e+00,\n",
              "        1.996e+03],\n",
              "       [0.000e+00, 0.000e+00, 0.000e+00, ..., 0.000e+00, 6.000e+00,\n",
              "        1.965e+03]])"
            ]
          },
          "metadata": {
            "tags": []
          },
          "execution_count": 41
        }
      ]
    },
    {
      "cell_type": "code",
      "metadata": {
        "id": "a0cb181c"
      },
      "source": [
        "X=StandardScaler().fit_transform(X)"
      ],
      "id": "a0cb181c",
      "execution_count": null,
      "outputs": []
    },
    {
      "cell_type": "code",
      "metadata": {
        "colab": {
          "base_uri": "https://localhost:8080/"
        },
        "id": "25082544",
        "outputId": "9cfce32b-06c7-46df-b630-d55a1b121bd7"
      },
      "source": [
        "X[0]"
      ],
      "id": "25082544",
      "execution_count": null,
      "outputs": [
        {
          "output_type": "execute_result",
          "data": {
            "text/plain": [
              "array([-0.08304548, -0.21585871, -0.10526316,  0.51813339, -0.41895507,\n",
              "       -0.21235968, -0.18831089, -0.15899968,  0.33712564, -0.10854037,\n",
              "       -0.03703704, -0.10526316, -0.20339487, -0.1398323 ,  2.95522137,\n",
              "       -0.19025216, -0.27116307, -0.23917551, -0.16124951, -0.10854037,\n",
              "       -0.1863522 , -0.42683279, -0.07875671, -0.22941573, -0.16998114,\n",
              "       -0.23595776, -0.28963792, -0.13199092, -0.23106504, -0.20521398,\n",
              "       -0.25018188, -0.13199092, -0.16347148, -0.08712888, -0.29055229,\n",
              "        1.02668924, -1.23804229, -0.23012211, -0.40936914, -0.03628912,\n",
              "        0.30941909,  0.83559903, -0.71775144,  0.25597761,  0.06423821,\n",
              "        1.11993319,  0.31386709, -0.77797579,  0.2085023 , -0.88465767,\n",
              "       -0.22571613, -0.40779461,  0.36420746,  0.303692  ,  0.28780036,\n",
              "       -0.12304604, -0.03174026, -0.12579688, -0.49151573,  0.75073056,\n",
              "       -0.02618016,  0.75162623,  0.22403433,  0.18797343,  0.26381257,\n",
              "        0.28974476,  0.60466978, -0.41169079,  0.64046232,  0.74309239,\n",
              "       -0.06869175,  0.91220977, -0.20714171, -0.11633929, -0.75217584,\n",
              "       -0.45930254,  0.37033344,  1.22758538, -0.79343379, -0.95122649,\n",
              "        0.07337496, -0.51719981,  0.51141841,  0.57542484,  1.05099379,\n",
              "        1.02115667, -0.22937175,  0.65147924,  0.16377912, -0.94459061,\n",
              "        1.10781015, -0.21145358,  0.13877749,  0.78974052, -0.28865283,\n",
              "        0.35100032, -0.27020835, -0.08768781,  0.21650316, -0.12024172,\n",
              "        1.16185159, -0.24106104,  0.31172464, -0.3593249 , -1.5991111 ,\n",
              "        0.87866809])"
            ]
          },
          "metadata": {
            "tags": []
          },
          "execution_count": 43
        }
      ]
    },
    {
      "cell_type": "code",
      "metadata": {
        "id": "6ca34047"
      },
      "source": [
        "y=data[target]"
      ],
      "id": "6ca34047",
      "execution_count": null,
      "outputs": []
    },
    {
      "cell_type": "code",
      "metadata": {
        "id": "f80462f2"
      },
      "source": [
        "y=y.to_numpy()"
      ],
      "id": "f80462f2",
      "execution_count": null,
      "outputs": []
    },
    {
      "cell_type": "code",
      "metadata": {
        "colab": {
          "base_uri": "https://localhost:8080/"
        },
        "id": "8d42c8b9",
        "outputId": "fb89786c-bf3d-4014-eecf-f5b4b4debce5"
      },
      "source": [
        "y.shape"
      ],
      "id": "8d42c8b9",
      "execution_count": null,
      "outputs": [
        {
          "output_type": "execute_result",
          "data": {
            "text/plain": [
              "(1460, 1)"
            ]
          },
          "metadata": {
            "tags": []
          },
          "execution_count": 46
        }
      ]
    },
    {
      "cell_type": "code",
      "metadata": {
        "colab": {
          "base_uri": "https://localhost:8080/"
        },
        "id": "5195fa84",
        "outputId": "d774864c-6a4d-44d5-8101-ec9edb72abff"
      },
      "source": [
        "y"
      ],
      "id": "5195fa84",
      "execution_count": null,
      "outputs": [
        {
          "output_type": "execute_result",
          "data": {
            "text/plain": [
              "array([[208500],\n",
              "       [181500],\n",
              "       [223500],\n",
              "       ...,\n",
              "       [266500],\n",
              "       [142125],\n",
              "       [147500]])"
            ]
          },
          "metadata": {
            "tags": []
          },
          "execution_count": 47
        }
      ]
    },
    {
      "cell_type": "code",
      "metadata": {
        "id": "e63ad2db"
      },
      "source": [
        "y=StandardScaler().fit_transform(y)"
      ],
      "id": "e63ad2db",
      "execution_count": null,
      "outputs": []
    },
    {
      "cell_type": "code",
      "metadata": {
        "colab": {
          "base_uri": "https://localhost:8080/"
        },
        "id": "23c23a47",
        "outputId": "691165d7-d23b-4442-823b-27fed9d85455"
      },
      "source": [
        "y"
      ],
      "id": "23c23a47",
      "execution_count": null,
      "outputs": [
        {
          "output_type": "execute_result",
          "data": {
            "text/plain": [
              "array([[ 0.34727322],\n",
              "       [ 0.00728832],\n",
              "       [ 0.53615372],\n",
              "       ...,\n",
              "       [ 1.07761115],\n",
              "       [-0.48852299],\n",
              "       [-0.42084081]])"
            ]
          },
          "metadata": {
            "tags": []
          },
          "execution_count": 49
        }
      ]
    },
    {
      "cell_type": "code",
      "metadata": {
        "colab": {
          "base_uri": "https://localhost:8080/"
        },
        "id": "d8f28d42",
        "outputId": "8fe3d129-cc29-42c0-d937-dfbafcb8dd5e"
      },
      "source": [
        "X.shape"
      ],
      "id": "d8f28d42",
      "execution_count": null,
      "outputs": [
        {
          "output_type": "execute_result",
          "data": {
            "text/plain": [
              "(1460, 106)"
            ]
          },
          "metadata": {
            "tags": []
          },
          "execution_count": 50
        }
      ]
    },
    {
      "cell_type": "code",
      "metadata": {
        "colab": {
          "base_uri": "https://localhost:8080/"
        },
        "id": "cb38af61",
        "scrolled": true,
        "outputId": "561bc541-d810-437b-f234-3105cbb9f51a"
      },
      "source": [
        "y=data[target]\n",
        "y"
      ],
      "id": "cb38af61",
      "execution_count": null,
      "outputs": [
        {
          "output_type": "execute_result",
          "data": {
            "text/html": [
              "<div>\n",
              "<style scoped>\n",
              "    .dataframe tbody tr th:only-of-type {\n",
              "        vertical-align: middle;\n",
              "    }\n",
              "\n",
              "    .dataframe tbody tr th {\n",
              "        vertical-align: top;\n",
              "    }\n",
              "\n",
              "    .dataframe thead th {\n",
              "        text-align: right;\n",
              "    }\n",
              "</style>\n",
              "<table border=\"1\" class=\"dataframe\">\n",
              "  <thead>\n",
              "    <tr style=\"text-align: right;\">\n",
              "      <th></th>\n",
              "      <th>SalePrice</th>\n",
              "    </tr>\n",
              "  </thead>\n",
              "  <tbody>\n",
              "    <tr>\n",
              "      <th>0</th>\n",
              "      <td>208500</td>\n",
              "    </tr>\n",
              "    <tr>\n",
              "      <th>1</th>\n",
              "      <td>181500</td>\n",
              "    </tr>\n",
              "    <tr>\n",
              "      <th>2</th>\n",
              "      <td>223500</td>\n",
              "    </tr>\n",
              "    <tr>\n",
              "      <th>3</th>\n",
              "      <td>140000</td>\n",
              "    </tr>\n",
              "    <tr>\n",
              "      <th>4</th>\n",
              "      <td>250000</td>\n",
              "    </tr>\n",
              "    <tr>\n",
              "      <th>...</th>\n",
              "      <td>...</td>\n",
              "    </tr>\n",
              "    <tr>\n",
              "      <th>1455</th>\n",
              "      <td>175000</td>\n",
              "    </tr>\n",
              "    <tr>\n",
              "      <th>1456</th>\n",
              "      <td>210000</td>\n",
              "    </tr>\n",
              "    <tr>\n",
              "      <th>1457</th>\n",
              "      <td>266500</td>\n",
              "    </tr>\n",
              "    <tr>\n",
              "      <th>1458</th>\n",
              "      <td>142125</td>\n",
              "    </tr>\n",
              "    <tr>\n",
              "      <th>1459</th>\n",
              "      <td>147500</td>\n",
              "    </tr>\n",
              "  </tbody>\n",
              "</table>\n",
              "<p>1460 rows × 1 columns</p>\n",
              "</div>"
            ],
            "text/plain": [
              "      SalePrice\n",
              "0        208500\n",
              "1        181500\n",
              "2        223500\n",
              "3        140000\n",
              "4        250000\n",
              "...         ...\n",
              "1455     175000\n",
              "1456     210000\n",
              "1457     266500\n",
              "1458     142125\n",
              "1459     147500\n",
              "\n",
              "[1460 rows x 1 columns]"
            ]
          },
          "metadata": {
            "tags": []
          },
          "execution_count": 51
        }
      ]
    },
    {
      "cell_type": "markdown",
      "metadata": {
        "id": "d88078d9"
      },
      "source": [
        "# Feature Selection Using L1"
      ],
      "id": "d88078d9"
    },
    {
      "cell_type": "code",
      "metadata": {
        "id": "eb9d1aa4"
      },
      "source": [
        "X_train,X_test,y_train,y_test=train_test_split(X,y,test_size=0.3,random_state=0)"
      ],
      "id": "eb9d1aa4",
      "execution_count": null,
      "outputs": []
    },
    {
      "cell_type": "code",
      "metadata": {
        "colab": {
          "base_uri": "https://localhost:8080/"
        },
        "id": "a8c30289",
        "outputId": "6666d476-91b1-4c30-8cac-d10ba41a5730"
      },
      "source": [
        "reg = LogisticRegression()\n",
        "reg.fit(X_train,y_train)"
      ],
      "id": "a8c30289",
      "execution_count": null,
      "outputs": [
        {
          "output_type": "stream",
          "text": [
            "/usr/local/lib/python3.7/dist-packages/sklearn/utils/validation.py:760: DataConversionWarning: A column-vector y was passed when a 1d array was expected. Please change the shape of y to (n_samples, ), for example using ravel().\n",
            "  y = column_or_1d(y, warn=True)\n",
            "/usr/local/lib/python3.7/dist-packages/sklearn/linear_model/_logistic.py:940: ConvergenceWarning: lbfgs failed to converge (status=1):\n",
            "STOP: TOTAL NO. of ITERATIONS REACHED LIMIT.\n",
            "\n",
            "Increase the number of iterations (max_iter) or scale the data as shown in:\n",
            "    https://scikit-learn.org/stable/modules/preprocessing.html\n",
            "Please also refer to the documentation for alternative solver options:\n",
            "    https://scikit-learn.org/stable/modules/linear_model.html#logistic-regression\n",
            "  extra_warning_msg=_LOGISTIC_SOLVER_CONVERGENCE_MSG)\n"
          ],
          "name": "stderr"
        },
        {
          "output_type": "execute_result",
          "data": {
            "text/plain": [
              "LogisticRegression(C=1.0, class_weight=None, dual=False, fit_intercept=True,\n",
              "                   intercept_scaling=1, l1_ratio=None, max_iter=100,\n",
              "                   multi_class='auto', n_jobs=None, penalty='l2',\n",
              "                   random_state=None, solver='lbfgs', tol=0.0001, verbose=0,\n",
              "                   warm_start=False)"
            ]
          },
          "metadata": {
            "tags": []
          },
          "execution_count": 53
        }
      ]
    },
    {
      "cell_type": "code",
      "metadata": {
        "colab": {
          "base_uri": "https://localhost:8080/"
        },
        "id": "9a7b54bd",
        "outputId": "c78a02fd-c19b-4c08-863b-8a993f18b28a"
      },
      "source": [
        "print('Learnt coefficients:', reg.coef_)\n",
        "print('Learnt intercept:', reg.intercept_)\n"
      ],
      "id": "9a7b54bd",
      "execution_count": null,
      "outputs": [
        {
          "output_type": "stream",
          "text": [
            "Learnt coefficients: [[ 0.40909092 -0.00500168 -0.00211977 ...  0.0567903   0.09503974\n",
            "  -0.0570431 ]\n",
            " [ 0.44630241 -0.00378979 -0.00115256 ... -0.08807278  0.09101163\n",
            "  -0.05039407]\n",
            " [-0.00620263 -0.00602428 -0.00320276 ... -0.0910539  -0.08259187\n",
            "  -0.14145639]\n",
            " ...\n",
            " [ 0.00061782 -0.01803922  0.00065084 ... -0.00258738 -0.31549937\n",
            "   0.03393748]\n",
            " [ 0.00099893 -0.01091051  0.00054873 ... -0.02689174  0.02510731\n",
            "  -0.01172272]\n",
            " [ 0.00071187 -0.00569178  0.00076296 ... -0.00968722 -0.1100359\n",
            "  -0.00221093]]\n",
            "Learnt intercept: [-5.73205794e-01 -6.63325884e-01 -3.60248256e-01 -3.49236386e-01\n",
            " -5.47779027e-01 -2.75178314e-01 -1.42859059e-01 -6.73227747e-01\n",
            " -4.53739274e-01 -1.96848101e-01 -4.40003640e-01 -1.85734335e-01\n",
            " -2.60874262e-01 -1.60852132e-01 -4.76229224e-01 -1.86279131e-01\n",
            " -2.25350803e-01 -4.99268601e-01 -7.88569595e-01 -5.30426536e-01\n",
            "  1.35785816e-01 -3.98389250e-01 -4.46954069e-01  2.43440622e-01\n",
            " -6.46850004e-01 -3.16312069e-01  1.55350842e-01 -3.40255615e-01\n",
            " -1.17824035e-01 -4.09112032e-01 -7.26459792e-03  3.47705900e-01\n",
            " -1.33023531e-01 -7.87941374e-01 -1.73970008e-01 -2.22868094e-01\n",
            " -3.37674862e-01 -6.44778075e-01 -7.96000730e-01 -1.71271777e-01\n",
            "  6.48745128e-02 -4.71625982e-01  1.08917973e-01 -4.41740795e-01\n",
            "  2.92760138e-01  1.00071954e-02 -3.09968207e-01 -4.15933949e-01\n",
            "  1.23395902e-01  5.07881505e-02 -1.17171853e-01 -5.25877692e-01\n",
            "  1.36507117e-01 -9.50030329e-02  7.48089240e-02 -1.69137821e-01\n",
            " -1.00306033e-01  1.11205818e-01 -1.91148470e-01 -4.60706968e-01\n",
            " -4.16789238e-02 -3.42990618e-01  1.81821685e-01  1.57369325e-02\n",
            "  2.56938943e-02 -4.45097244e-01  9.58165400e-02  6.48556797e-01\n",
            " -1.17330710e-01  3.19747272e-01  2.36812319e-01  1.57557130e-01\n",
            "  7.79023074e-02 -3.13040723e-01  1.41449615e-01 -1.58745569e-01\n",
            "  3.92264974e-01 -4.76093981e-02  2.48232384e-01  5.28407494e-01\n",
            "  1.56272021e-01 -4.66360520e-02 -1.53050546e-01 -2.55530313e-01\n",
            "  6.64036132e-01  5.62759265e-01 -9.84516123e-02 -1.96302201e-02\n",
            "  8.25794880e-02  4.40013908e-01 -1.75249882e-01 -4.88664464e-01\n",
            " -1.51235259e-01 -1.53013714e-01  4.43015947e-03  3.47704439e-01\n",
            " -1.21364350e-01 -4.05401779e-01  4.09078017e-01  2.45555974e-01\n",
            " -3.72430669e-01  1.05405676e-01  3.71645168e-03  6.15069541e-01\n",
            " -1.77619103e-01  3.99239013e-01  1.10829111e-01 -6.10298558e-02\n",
            "  5.41189854e-01 -4.61095615e-02  2.58759150e-01  5.15231676e-01\n",
            "  5.28071412e-01  2.90565740e-01  7.94378746e-02  1.76499199e-01\n",
            "  7.97484161e-02  2.30619027e-01  5.42492417e-01  6.57685245e-01\n",
            "  1.37379707e-02  1.42749090e-01 -1.44568564e-01 -3.55942309e-01\n",
            "  1.11739954e-01  9.51626871e-01  2.76773415e-02  3.96149173e-01\n",
            "  5.46132564e-01  2.13834691e-02  2.23286050e-01  6.83671248e-01\n",
            " -2.32037827e-01 -7.13968104e-02  6.93794318e-01  2.85282541e-01\n",
            "  1.16461083e-01  4.28191538e-01  1.55176275e-01  6.48363362e-02\n",
            "  2.60120601e-01 -1.79807196e-02  5.55853560e-01  1.18489485e+00\n",
            "  7.65885659e-01 -1.15972663e-01 -3.68197194e-01  7.99383100e-01\n",
            "  2.74118996e-01 -1.59600631e-01 -1.49287014e-01  1.05423543e+00\n",
            "  5.48190780e-01  2.26484300e-01  1.49718568e-01 -4.41263154e-01\n",
            "  1.05042831e+00  1.92523210e-01  2.57562223e-01  1.62103239e-01\n",
            "  3.67899730e-01  2.65864223e+00  4.98920687e-02  8.06953875e-01\n",
            "  1.64869654e-02  6.54110129e-01 -9.08474569e-02  4.65488297e-01\n",
            " -2.56402022e-01  1.16848374e+00  3.81875016e-01  8.34169135e-01\n",
            " -5.26457220e-01  1.69766855e-02  1.32325704e+00 -5.35350603e-01\n",
            "  3.05106225e-01 -2.24638310e-01  1.19064224e+00  4.17465383e-01\n",
            "  6.84190573e-01  4.32194047e-02  1.37194167e+00 -5.05527729e-01\n",
            "  1.97442889e-01  8.00290091e-01  1.87852321e-01  1.06084724e+00\n",
            "  2.84350391e-01  2.49426283e-01  8.88800260e-01  9.62265708e-01\n",
            "  7.19366280e-01  4.28460556e-02  5.09282795e-01 -5.40002840e-01\n",
            " -8.36437465e-01  1.07716312e+00  2.23859018e-01 -5.10309396e-02\n",
            "  7.31789207e-01 -1.18405245e-01  8.38687291e-01  8.03428639e-01\n",
            " -4.48742571e-02 -5.92828427e-02 -1.81311049e-01  1.12414122e+00\n",
            " -8.84656324e-02  5.36235263e-01 -1.79295204e-01  6.15258001e-01\n",
            "  3.88951466e-01  4.38586931e-01  7.75771327e-01  7.88854346e-02\n",
            "  9.02528152e-01 -6.62887082e-01  7.34974952e-01 -3.44939402e-01\n",
            "  6.71119700e-02  1.12282964e+00 -6.00136539e-01 -1.02952414e-01\n",
            "  4.25349440e-01  3.81826258e-01  6.10671807e-01 -2.89424813e-01\n",
            " -1.59584884e-02  9.83544466e-01  4.10380910e-01  1.45941012e-01\n",
            "  2.06589855e-01  3.51551671e-01 -5.13756213e-01  3.07407196e-02\n",
            "  1.52252375e+00  1.17389495e-01  5.56682161e-01  5.05531544e-02\n",
            "  4.32291746e-01 -6.02356072e-01  5.65929224e-01  2.74742239e-01\n",
            "  5.95678902e-01  3.20698729e-01  5.24611263e-01  5.54891866e-01\n",
            " -1.82593911e-01  1.08110191e+00  9.40995054e-02  1.39661253e-01\n",
            " -1.04454022e-01 -6.26010284e-01 -5.60557063e-02 -1.40247880e-01\n",
            "  4.02325845e-01 -8.44409681e-02  7.08842527e-01 -1.13767103e-01\n",
            "  6.15206476e-01 -2.07967612e-02 -3.74557768e-02  1.15481173e+00\n",
            "  9.87721443e-01  6.25148617e-01  2.58743654e-01 -2.85831122e-01\n",
            "  4.61895304e-01  8.07094517e-01 -3.22539359e-02  6.87521911e-01\n",
            "  3.59175615e-01  9.37110425e-03 -2.93781635e-01 -4.48032607e-01\n",
            " -1.78338249e-01  9.07563847e-02  8.57185657e-01  1.58356581e+00\n",
            "  2.65017959e-01 -1.10603882e-01 -2.26492311e-01 -2.98345597e-01\n",
            " -4.14513562e-02 -3.09384260e-02 -3.66413768e-01  9.12548715e-01\n",
            " -6.51479617e-01 -2.22347837e-01  5.33915271e-01 -2.65305402e-02\n",
            "  8.96756171e-02 -1.17635671e-01 -1.47618752e-01 -5.97694870e-01\n",
            "  6.73591348e-01 -1.52825639e-01  5.25695357e-01  6.36596628e-01\n",
            " -1.41638939e-01  8.28028289e-02  7.10294045e-02  1.03134941e+00\n",
            "  7.37872331e-01  3.37663833e-01 -5.92805429e-01  1.85595209e-01\n",
            " -7.65250222e-02 -1.06525584e-01 -5.88463432e-02  2.21298886e-01\n",
            "  5.43459531e-01  3.51157247e-01  7.67346142e-02  4.66447688e-01\n",
            " -3.47285133e-01 -3.67438764e-01  1.12711427e+00 -9.89271907e-02\n",
            "  1.31768881e-01  9.68527137e-02 -3.68673440e-01 -1.84365340e-01\n",
            " -1.27082106e-01  3.71537738e-01  1.62023167e-01 -2.75877453e-01\n",
            "  6.31215240e-01 -2.14137108e-01 -2.79244329e-01  4.66948437e-01\n",
            " -1.93842640e-01  1.26777844e+00 -4.07459401e-01 -1.78241710e-01\n",
            "  6.97908509e-02 -7.27396197e-02  6.23023356e-01  2.79396476e-01\n",
            " -6.48036975e-02 -4.32002458e-01 -2.06539027e-01  3.04309427e-01\n",
            "  8.27662437e-01 -1.91342867e-01 -1.66910665e-01  9.59754404e-01\n",
            " -1.39143354e-01 -4.73144299e-01 -3.30988552e-01  2.71906671e-02\n",
            " -4.32156816e-01 -5.31271081e-01 -1.63837587e-01  8.33686803e-01\n",
            "  3.89726818e-01  2.77717385e-01 -3.70252279e-01  1.76556911e-01\n",
            "  1.88861503e-01 -2.40264194e-01  1.94526890e-01  9.52304750e-01\n",
            "  8.32823372e-01  2.90790026e-01  6.97368938e-02  2.18668705e-01\n",
            " -2.21667488e-02 -7.06214657e-01  2.23974795e-01  9.97391765e-01\n",
            "  4.58901095e-02 -2.53060856e-01 -3.83399108e-01 -1.01585919e-01\n",
            " -3.45193246e-03 -5.97530645e-01  6.24393979e-01 -2.91556012e-01\n",
            " -2.80451028e-01  2.17907038e-02 -3.69203146e-01 -2.39562312e-01\n",
            "  6.72407338e-01 -1.34196007e-01 -3.00947237e-04  2.66748133e-02\n",
            "  4.82504388e-01 -6.76023004e-02 -1.67950687e-01  5.60238155e-01\n",
            " -1.24517190e-01  1.00095419e-01 -4.67468723e-01 -5.11696225e-01\n",
            " -4.45167024e-01 -1.91532025e-01  4.54651173e-01 -5.42857642e-01\n",
            " -6.92853946e-01 -3.22200043e-01  4.92776420e-01 -3.71599150e-02\n",
            " -2.68270053e-01 -1.42369165e-02 -5.27579231e-01  6.63422871e-02\n",
            " -2.72372928e-01 -1.32949091e-01  1.76601225e-02 -2.33204473e-01\n",
            " -2.10805866e-01  7.33967549e-02 -8.41016417e-02 -7.48022263e-02\n",
            " -3.72644479e-02  6.12135564e-02  1.12462284e-01 -2.17440483e-01\n",
            " -4.57013286e-01 -3.00828281e-01 -5.99438829e-01 -1.43137258e-01\n",
            " -2.28494487e-01 -5.07459758e-01 -6.78078241e-02 -1.53154336e-01\n",
            "  4.41638859e-01 -5.04140531e-01  2.31014708e-01 -1.22727126e-01\n",
            "  1.69199907e-02 -1.17706375e-01 -1.20749350e-01 -1.44531455e-01\n",
            "  2.01144267e-01 -2.58946607e-01 -3.14807760e-01 -6.03957084e-01\n",
            "  5.88356917e-01  1.03449374e-02 -4.49227875e-01 -1.52161957e-01\n",
            " -5.12440601e-01 -3.40720051e-01 -2.53996241e-01 -3.40396204e-01\n",
            " -3.86575412e-01 -4.16972105e-01 -2.64151198e-01  8.34909639e-03\n",
            " -3.89254949e-01  3.19408697e-01 -2.66903759e-01 -1.46027496e-02\n",
            " -2.86842571e-01 -3.04119415e-01 -5.32087687e-01 -4.71530270e-02\n",
            " -5.87934132e-01 -4.69610255e-01 -3.32367018e-01 -3.74276497e-01\n",
            " -3.79847903e-02 -2.30813510e-01  2.80484790e-02 -4.68953384e-01\n",
            " -4.34863266e-01 -6.58187188e-02 -2.89685479e-01 -6.20911867e-01\n",
            " -6.55373895e-02 -6.66849425e-01 -4.30979732e-01 -2.64810601e-01\n",
            " -6.42459673e-01 -6.21626828e-01 -3.58870225e-01 -5.09771554e-01\n",
            " -6.11098867e-02 -6.68456606e-01 -2.47234581e-01 -5.80478380e-01\n",
            " -1.96164815e-01 -3.05578932e-01 -7.45555635e-02 -7.69124146e-01\n",
            " -3.65890791e-01 -5.15083690e-01 -7.82035030e-01 -9.20219072e-01\n",
            " -3.26802667e-01 -6.61458047e-01 -4.39601990e-01 -4.24219803e-01\n",
            " -5.41513007e-01 -2.32055418e-01 -6.29185352e-01 -6.28708974e-01\n",
            " -5.48427882e-01 -3.66271094e-01 -6.95643962e-01 -5.22306850e-01\n",
            " -5.74047659e-01 -6.65452936e-01 -3.65363167e-01 -6.00300062e-01\n",
            " -2.63878804e-01 -4.94027112e-01 -6.75760995e-01 -5.22654634e-01\n",
            " -9.37153314e-01 -3.07185663e-01 -6.44534354e-01 -5.02270900e-01\n",
            " -4.60221376e-01 -6.04955868e-01 -9.73390683e-01 -5.47193335e-01\n",
            " -6.65033291e-01 -4.85407981e-01 -8.79925639e-01 -5.88730933e-01\n",
            " -9.64082162e-01 -5.54614665e-01 -1.31985804e+00 -7.95550579e-01\n",
            " -6.89427018e-01 -9.49358860e-01 -1.04596191e+00 -8.48028513e-01]\n"
          ],
          "name": "stdout"
        }
      ]
    },
    {
      "cell_type": "code",
      "metadata": {
        "id": "3d3e2f2e"
      },
      "source": [
        "y_hat=reg.predict(X_test)"
      ],
      "id": "3d3e2f2e",
      "execution_count": null,
      "outputs": []
    },
    {
      "cell_type": "code",
      "metadata": {
        "colab": {
          "background_save": true,
          "base_uri": "https://localhost:8080/"
        },
        "id": "ec46144c",
        "outputId": "9403d569-6a92-4634-df60-e3280faae512"
      },
      "source": [
        "len(y_hat)"
      ],
      "id": "ec46144c",
      "execution_count": null,
      "outputs": [
        {
          "output_type": "execute_result",
          "data": {
            "text/plain": [
              "438"
            ]
          },
          "metadata": {
            "tags": []
          },
          "execution_count": 0
        }
      ]
    },
    {
      "cell_type": "code",
      "metadata": {
        "colab": {
          "background_save": true,
          "base_uri": "https://localhost:8080/"
        },
        "id": "4b8a6148",
        "outputId": "91714600-c28d-483b-c9f5-9a4785fae94a"
      },
      "source": [
        "len(y_test)"
      ],
      "id": "4b8a6148",
      "execution_count": null,
      "outputs": [
        {
          "output_type": "execute_result",
          "data": {
            "text/plain": [
              "438"
            ]
          },
          "metadata": {
            "tags": []
          },
          "execution_count": 0
        }
      ]
    },
    {
      "cell_type": "code",
      "metadata": {
        "colab": {
          "background_save": true,
          "base_uri": "https://localhost:8080/"
        },
        "id": "e03aa598",
        "outputId": "21904c92-cec0-4e4b-94cc-e35310cfd3de"
      },
      "source": [
        "mean_squared_error(y_test,y_hat, squared=False)"
      ],
      "id": "e03aa598",
      "execution_count": null,
      "outputs": [
        {
          "output_type": "execute_result",
          "data": {
            "text/plain": [
              "58417.89902062568"
            ]
          },
          "metadata": {
            "tags": []
          },
          "execution_count": 0
        }
      ]
    },
    {
      "cell_type": "code",
      "metadata": {
        "colab": {
          "background_save": true
        },
        "id": "713f28fa"
      },
      "source": [
        ""
      ],
      "id": "713f28fa",
      "execution_count": null,
      "outputs": []
    }
  ]
}